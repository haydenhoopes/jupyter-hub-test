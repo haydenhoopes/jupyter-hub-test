{
 "cells": [
  {
   "cell_type": "markdown",
   "id": "424d03db-b015-4baf-b038-d11a65ec1edf",
   "metadata": {},
   "source": [
    "## This is a test Jupyter Notebook"
   ]
  },
  {
   "cell_type": "code",
   "execution_count": 1,
   "id": "256f5c5b-bcf6-4353-a7b6-d541dabff63f",
   "metadata": {},
   "outputs": [
    {
     "name": "stdout",
     "output_type": "stream",
     "text": [
      "I really hope this works!\n"
     ]
    }
   ],
   "source": [
    "print(\"I really hope this works!\")"
   ]
  },
  {
   "cell_type": "code",
   "execution_count": 2,
   "id": "0d54bb61-c845-48a9-87dc-7f557c703168",
   "metadata": {},
   "outputs": [],
   "source": [
    "import pandas as pd"
   ]
  },
  {
   "cell_type": "code",
   "execution_count": 3,
   "id": "c4a2e6a1-3db5-46f9-ab7a-39eb71cc6551",
   "metadata": {},
   "outputs": [],
   "source": [
    "data = {\n",
    "    \"fname\": [\"Hayden\", \"Andrea\"],\n",
    "    \"lname\": [\"Hoopes\", \"Ospina\"]\n",
    "}"
   ]
  },
  {
   "cell_type": "code",
   "execution_count": 4,
   "id": "a0baee6c-e5fd-43a8-beba-ba34f1698d52",
   "metadata": {},
   "outputs": [],
   "source": [
    "df = pd.DataFrame(data)"
   ]
  },
  {
   "cell_type": "code",
   "execution_count": 5,
   "id": "2d5a0c1a-d2b8-47f8-a278-5b94a930904f",
   "metadata": {},
   "outputs": [
    {
     "data": {
      "text/html": [
       "<div>\n",
       "<style scoped>\n",
       "    .dataframe tbody tr th:only-of-type {\n",
       "        vertical-align: middle;\n",
       "    }\n",
       "\n",
       "    .dataframe tbody tr th {\n",
       "        vertical-align: top;\n",
       "    }\n",
       "\n",
       "    .dataframe thead th {\n",
       "        text-align: right;\n",
       "    }\n",
       "</style>\n",
       "<table border=\"1\" class=\"dataframe\">\n",
       "  <thead>\n",
       "    <tr style=\"text-align: right;\">\n",
       "      <th></th>\n",
       "      <th>fname</th>\n",
       "      <th>lname</th>\n",
       "    </tr>\n",
       "  </thead>\n",
       "  <tbody>\n",
       "    <tr>\n",
       "      <th>0</th>\n",
       "      <td>Hayden</td>\n",
       "      <td>Hoopes</td>\n",
       "    </tr>\n",
       "    <tr>\n",
       "      <th>1</th>\n",
       "      <td>Andrea</td>\n",
       "      <td>Ospina</td>\n",
       "    </tr>\n",
       "  </tbody>\n",
       "</table>\n",
       "</div>"
      ],
      "text/plain": [
       "    fname   lname\n",
       "0  Hayden  Hoopes\n",
       "1  Andrea  Ospina"
      ]
     },
     "execution_count": 5,
     "metadata": {},
     "output_type": "execute_result"
    }
   ],
   "source": [
    "df"
   ]
  },
  {
   "cell_type": "code",
   "execution_count": null,
   "id": "75c1dad0-b1ae-43e4-b6bd-127932955763",
   "metadata": {},
   "outputs": [],
   "source": []
  }
 ],
 "metadata": {
  "kernelspec": {
   "display_name": "data1040",
   "language": "python",
   "name": "data1040"
  },
  "language_info": {
   "codemirror_mode": {
    "name": "ipython",
    "version": 3
   },
   "file_extension": ".py",
   "mimetype": "text/x-python",
   "name": "python",
   "nbconvert_exporter": "python",
   "pygments_lexer": "ipython3",
   "version": "3.10.2"
  }
 },
 "nbformat": 4,
 "nbformat_minor": 5
}
